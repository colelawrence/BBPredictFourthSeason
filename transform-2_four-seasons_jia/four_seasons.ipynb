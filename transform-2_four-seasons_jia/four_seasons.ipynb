{
 "cells": [
  {
   "cell_type": "code",
   "execution_count": 16,
   "metadata": {
    "collapsed": true
   },
   "outputs": [],
   "source": [
    "\"\"\"4 consecutive years of grouped by playerID \"\"\"\n",
    "import csv\n",
    "from ipywidgets import widgets\n",
    "from IPython.display import display"
   ]
  },
  {
   "cell_type": "code",
   "execution_count": 17,
   "metadata": {
    "collapsed": true
   },
   "outputs": [],
   "source": [
    "fname = \"..//transform-1_aggregate-stats-alt_cole//batters_with_four_seasons_of_ten_hits.csv\"\n",
    "#fname_out = \"Career_Batting1.csv\""
   ]
  },
  {
   "cell_type": "code",
   "execution_count": 18,
   "metadata": {
    "collapsed": true
   },
   "outputs": [],
   "source": [
    "#Indices \n",
    "pidx, yrx, gx, abx, rx, hx, dblx, tplx = 0, 1, 2, 3, 4, 5, 6, 7\n",
    "hrx, rbix, sbx, csx, bbx, = 8, 9, 10, 11, 12\n",
    "sox,ibbx, hbpx, shx,sfx = 13,14,15,16,17\n"
   ]
  },
  {
   "cell_type": "code",
   "execution_count": 97,
   "metadata": {
    "collapsed": false
   },
   "outputs": [],
   "source": [
    "class PlayerSeasonStats:\n",
    "    def __init__(self, pid):\n",
    "        self.pid = pid\n",
    "        self.attribution = [] #A list :[[yearid,interest],....]\n",
    "\n",
    "    def add_data(self, line, interested_attribution):\n",
    "        self.attribution.append([line[yrx], line[interested_attribution]])\n",
    "\n",
    "    def years_asc(self, include_first=True, include_last=True):\n",
    "        self.attribution.sort()\n",
    "        if (len(self.attribution) < 4):\n",
    "            print(\"Not enough stats: \" + self.pid)\n",
    "            while len(self.attribution) < 4:\n",
    "                self.attribution.append(None, None)\n",
    "        \n",
    "        i_start = 0 if include_first else 1\n",
    "        i_end = len(self.attribution) if include_last else len(self.attribution) - 1\n",
    "        sets_no = max(i_end - i_start - 3, 0)\n",
    "        return [self.attribution[i_start + i: i_start + i + 4] for i in range(sets_no)]"
   ]
  },
  {
   "cell_type": "code",
   "execution_count": 98,
   "metadata": {
    "collapsed": true
   },
   "outputs": [],
   "source": [
    "def readcsv(fname):\n",
    "    '''Returns a list of lines from the file'''\n",
    "    f = open(fname, 'r')\n",
    "    reader = csv.reader(f)\n",
    "    lines = list(reader)\n",
    "    f.close()\n",
    "    return lines"
   ]
  },
  {
   "cell_type": "code",
   "execution_count": 99,
   "metadata": {
    "collapsed": false
   },
   "outputs": [],
   "source": [
    "def writecsv(fname, season_stats,\n",
    "             include_first_season=True,\n",
    "             include_last_season=True):\n",
    "    header = [\"playerID\", \"yearID\", \"season1\",\n",
    "             \"season2\",\"season3\",\"season4\"]\n",
    "    outlines = [header]\n",
    "    for pid in season_stats:\n",
    "        year_seasons = season_stats[pid].years_asc(include_first=include_first_season,\n",
    "                                                   include_last=include_last_season)\n",
    "        for year_season in year_seasons:\n",
    "            line = [pid, # playerID\n",
    "                    year_season[0][0], # season 1 yearID\n",
    "                    year_season[0][1], # season 1 \n",
    "                    year_season[1][1], # season 2\n",
    "                    year_season[2][1], # season 3\n",
    "                    year_season[3][1]] # season 4\n",
    "            outlines.append(line)\n",
    "    f = open(fname, 'w', newline = '')\n",
    "    writer = csv.writer(f)\n",
    "    writer.writerows(outlines)\n",
    "    f.close()\n",
    "    print(\"output successfully, file name is \", fname)  #Number of lines written to file\"\"\""
   ]
  },
  {
   "cell_type": "code",
   "execution_count": 100,
   "metadata": {
    "collapsed": true
   },
   "outputs": [],
   "source": [
    "def build_name_dict(fname):\n",
    "    if(statistic.value ==\"G\"):\n",
    "        interested_attribution = gx\n",
    "    elif(statistic.value ==\"AB\"):\n",
    "        interested_attribution = abx\n",
    "    elif(statistic.value ==\"R\"):\n",
    "        interested_attribution = rx\n",
    "    elif(statistic.value ==\"H\"):\n",
    "        interested_attribution = hx\n",
    "    elif(statistic.value ==\"2B\"):\n",
    "        interested_attribution = dblx\n",
    "    elif(statistic.value ==\"3B\"):\n",
    "        interested_attribution = tplx\n",
    "    elif(statistic.value ==\"HR\"):\n",
    "        interested_attribution = hrx\n",
    "    elif(statistic.value ==\"RBI\"):\n",
    "        interested_attribution = rbix\n",
    "    elif(statistic.value ==\"SB\"):\n",
    "        interested_attribution = sbx\n",
    "    elif(statistic.value ==\"CS\"):\n",
    "        interested_attribution = csx\n",
    "    elif(statistic.value ==\"BB\"):\n",
    "        interested_attribution = bbx\n",
    "    elif(statistic.value ==\"SO\"):\n",
    "        interested_attribution = sox\n",
    "    elif(statistic.value ==\"IBB\"):\n",
    "        interested_attribution = ibbx\n",
    "    elif(statistic.value ==\"HBP\"):\n",
    "        interested_attribution = hbpx\n",
    "    elif(statistic.value ==\"SH\"):\n",
    "        interested_attribution = shx\n",
    "    elif(statistic.value ==\"SF\"):\n",
    "        interested_attribution = sfx\n",
    "    d = {}\n",
    "    lines = readcsv(fname)\n",
    "    for row in lines[1:]:\n",
    "        pid = row[pidx]\n",
    "        if pid not in d:\n",
    "            d[pid] = PlayerSeasonStats(pid)\n",
    "        d[pid].add_data(row, interested_attribution)\n",
    "        \n",
    "    return d"
   ]
  },
  {
   "cell_type": "code",
   "execution_count": 101,
   "metadata": {
    "collapsed": false
   },
   "outputs": [
    {
     "name": "stdout",
     "output_type": "stream",
     "text": [
      "output successfully, file name is  last_four_years_playerID_h_H.csv\n"
     ]
    }
   ],
   "source": [
    "'''\n",
    "    Build GUI, Choose the attribution wanted \n",
    "'''\n",
    "\n",
    "statistic = widgets.RadioButtons(options = [\"G\", \"AB\", \"R\",\"H\",\"2B\", \"3B\",\"HR\",\"RBI\",\"SB\", \n",
    "                                           \"CS\",\"BB\", \"SO\",\"IBB\",\"HBP\",\"SH\",\"SF\"], value = \"G\",\n",
    "                     description = \"Attribute:\")\n",
    "display(statistic)\n",
    "\n",
    "include_first = widgets.Checkbox(value=True, description = \"Include Player's first season\")\n",
    "include_last = widgets.Checkbox(value=True, description = \"Include Player's last season\")\n",
    "display(include_first)\n",
    "display(include_last)\n",
    "\n",
    "filename_suffix_input = widgets.Text(description = \"File suffix:\")\n",
    "display(filename_suffix_input)\n",
    "\n",
    "\n",
    "button = widgets.Button(description = \"Create CSV\")\n",
    "display(button)\n",
    "filename_display = widgets.Label()\n",
    "display(filename_display)\n",
    "\n",
    "\n",
    "def get_filename():\n",
    "    suff = \"\"\n",
    "    if (filename_suffix_input.value):\n",
    "        suff = filename_suffix_input.value + \"_\"\n",
    "    return \"last_four_years_playerID_\" + suff + str(statistic.value) + \".csv\"\n",
    "\n",
    "def on_input_change(_=None):\n",
    "    filename_display.value = get_filename()\n",
    "\n",
    "def on_button_clicked(b):\n",
    "    lines = readcsv(fname)\n",
    "    names_dict = build_name_dict(fname)\n",
    "    fname_out = get_filename()\n",
    "    #name = list(names_dict.keys())\n",
    "    #name.sort()\n",
    "    writecsv(fname_out, names_dict,\n",
    "             include_first_season=include_first.value,\n",
    "             include_last_season=include_last.value)\n",
    "\n",
    "filename_suffix_input.observe(on_input_change, names='value')\n",
    "statistic.observe(on_input_change, names='value')\n",
    "button.on_click(on_button_clicked)\n",
    "# trigger filename display:\n",
    "on_input_change()"
   ]
  },
  {
   "cell_type": "code",
   "execution_count": null,
   "metadata": {
    "collapsed": true
   },
   "outputs": [],
   "source": []
  },
  {
   "cell_type": "code",
   "execution_count": null,
   "metadata": {
    "collapsed": true
   },
   "outputs": [],
   "source": []
  },
  {
   "cell_type": "code",
   "execution_count": null,
   "metadata": {
    "collapsed": true
   },
   "outputs": [],
   "source": []
  },
  {
   "cell_type": "code",
   "execution_count": null,
   "metadata": {
    "collapsed": true
   },
   "outputs": [],
   "source": []
  }
 ],
 "metadata": {
  "anaconda-cloud": {},
  "kernelspec": {
   "display_name": "Python [conda root]",
   "language": "python",
   "name": "conda-root-py"
  },
  "language_info": {
   "codemirror_mode": {
    "name": "ipython",
    "version": 3
   },
   "file_extension": ".py",
   "mimetype": "text/x-python",
   "name": "python",
   "nbconvert_exporter": "python",
   "pygments_lexer": "ipython3",
   "version": "3.5.2"
  },
  "widgets": {
   "state": {
    "0028291e56c34952921a5afb566a2859": {
     "views": [
      {
       "cell_index": 7
      }
     ]
    },
    "02c2a4e9611a4715810b8f95868a12af": {
     "views": [
      {
       "cell_index": 7
      }
     ]
    },
    "0305ca1f33a7425ca55ae4eedeb0f09c": {
     "views": [
      {
       "cell_index": 7
      }
     ]
    },
    "13bba822f0134c9da39e35323eb6ddf3": {
     "views": [
      {
       "cell_index": 7
      }
     ]
    },
    "24797ca8ef534dccb27000d1de67da7a": {
     "views": [
      {
       "cell_index": 7
      }
     ]
    },
    "3116d5202baa4626b57075b0d7ec0bd9": {
     "views": [
      {
       "cell_index": 7
      }
     ]
    },
    "32efe228518945f4a3de0b65a99f2301": {
     "views": [
      {
       "cell_index": 8
      }
     ]
    },
    "51d968a182a84fdab6a711d2c4249a4d": {
     "views": [
      {
       "cell_index": 8
      }
     ]
    },
    "536d205674734d01bebaed4c7acf5fc3": {
     "views": [
      {
       "cell_index": 7
      }
     ]
    },
    "56b43e5b45004378a8278539f1b1d7cd": {
     "views": [
      {
       "cell_index": 7
      }
     ]
    },
    "5af0e61eea45455080cddb290152ca5f": {
     "views": [
      {
       "cell_index": 7
      }
     ]
    },
    "619b82b5c69f49ce8bd633b3e94b01c5": {
     "views": [
      {
       "cell_index": 8
      }
     ]
    },
    "6f9a2f8281f1478fa67a3cbd1767835b": {
     "views": [
      {
       "cell_index": 7
      }
     ]
    },
    "7491895c0d664fbe8db57d4deb68a50c": {
     "views": [
      {
       "cell_index": 7
      }
     ]
    },
    "786e569d09bf4eaba8f2b5f39ef55151": {
     "views": [
      {
       "cell_index": 7
      }
     ]
    },
    "7dbdd8a4880d4a2ba3c2ba484649f4fa": {
     "views": [
      {
       "cell_index": 7
      }
     ]
    },
    "7dd96847c030482fb2d86b818f6f86f8": {
     "views": [
      {
       "cell_index": 7
      }
     ]
    },
    "7de099ea6999458d9a9fda6344c81695": {
     "views": [
      {
       "cell_index": 7
      }
     ]
    },
    "80725abd4c374cfe9f2baac210055d16": {
     "views": [
      {
       "cell_index": 7
      }
     ]
    },
    "80778a8e96c24e12948f37b20ddc1eb8": {
     "views": [
      {
       "cell_index": 7
      }
     ]
    },
    "80f3fa12e8944b548140812d603ab155": {
     "views": [
      {
       "cell_index": 7
      }
     ]
    },
    "82cad65a70f54fdbbb8e51e811f2af54": {
     "views": [
      {
       "cell_index": 7
      }
     ]
    },
    "838e99c09608419685d5c43bf1e20f09": {
     "views": [
      {
       "cell_index": 7
      }
     ]
    },
    "8abae14ed49b4405836d882e70e21d8b": {
     "views": [
      {
       "cell_index": 8
      }
     ]
    },
    "8c562ad1004e4d8ebe307ef7d2525343": {
     "views": [
      {
       "cell_index": 7
      }
     ]
    },
    "91c9aed6d2534d059c78af23eaa7eeba": {
     "views": [
      {
       "cell_index": 7
      }
     ]
    },
    "92496246c6de45bf801bbee112304e06": {
     "views": [
      {
       "cell_index": 7
      }
     ]
    },
    "95c8e65a708a48bb9cea40ce995b4983": {
     "views": [
      {
       "cell_index": 7
      }
     ]
    },
    "97657c7291fd4c9fb724995c36656880": {
     "views": [
      {
       "cell_index": 7
      }
     ]
    },
    "97c86d88dcfd4d89934f25da701dc2e2": {
     "views": [
      {
       "cell_index": 8
      }
     ]
    },
    "988ea4292b1c4c45a457f65455070eb0": {
     "views": [
      {
       "cell_index": 7
      }
     ]
    },
    "9ba2d8f014704a05a97bc6a147bd29df": {
     "views": [
      {
       "cell_index": 7
      }
     ]
    },
    "b147fad9e2994e6da354cc9adef59a0c": {
     "views": [
      {
       "cell_index": 7
      }
     ]
    },
    "b4060cea1b344072831463fc5f06c92c": {
     "views": [
      {
       "cell_index": 7
      }
     ]
    },
    "b45a06542aad42d792fb2a8e5c5be037": {
     "views": [
      {
       "cell_index": 7
      }
     ]
    },
    "ba54b22fe0ba4fd8bf90cce4bd6a2d31": {
     "views": [
      {
       "cell_index": 7
      }
     ]
    },
    "c1f970fd77224c0bb9dd3fec20b89230": {
     "views": [
      {
       "cell_index": 7
      }
     ]
    },
    "c857410ef3a841db85c70d6eaca0034d": {
     "views": [
      {
       "cell_index": 7
      }
     ]
    },
    "c9fc746dc8ad4ccdb7b952d92f07233b": {
     "views": [
      {
       "cell_index": 7
      }
     ]
    },
    "cd3d1e6ab3f747b58b416a42fb0c733e": {
     "views": [
      {
       "cell_index": 7
      }
     ]
    },
    "ce3d792a945a486f829f641380e16c1a": {
     "views": [
      {
       "cell_index": 7
      }
     ]
    },
    "ea800d521a324d38a9368615f773555a": {
     "views": [
      {
       "cell_index": 7
      }
     ]
    },
    "f8e102cca837466da9dcc62c50aee03c": {
     "views": [
      {
       "cell_index": 8
      }
     ]
    },
    "fd1816bcb9bf485eb2629badef2866ec": {
     "views": [
      {
       "cell_index": 7
      }
     ]
    },
    "fdab0012abad4f62bad40d608c8dab13": {
     "views": [
      {
       "cell_index": 7
      }
     ]
    }
   },
   "version": "1.2.0"
  }
 },
 "nbformat": 4,
 "nbformat_minor": 0
}
