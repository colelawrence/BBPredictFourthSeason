{
 "cells": [
  {
   "cell_type": "code",
   "execution_count": 1,
   "metadata": {
    "collapsed": true
   },
   "outputs": [],
   "source": [
    "\"\"\"4 consecutive years of grouped by playerID \"\"\"\n",
    "import csv\n",
    "from ipywidgets import widgets\n",
    "from IPython.display import display"
   ]
  },
  {
   "cell_type": "code",
   "execution_count": 2,
   "metadata": {
    "collapsed": true
   },
   "outputs": [],
   "source": [
    "fname = \"..//transform-1_aggregate-stats-alt_cole//batters_with_four_seasons_of_ten_hits.csv\"\n",
    "#fname_out = \"Career_Batting1.csv\""
   ]
  },
  {
   "cell_type": "code",
   "execution_count": 3,
   "metadata": {
    "collapsed": true
   },
   "outputs": [],
   "source": [
    "#Indices \n",
    "pidx, yrx, gx, abx, rx, hx, dblx, tplx = 0, 1, 2, 3, 4, 5, 6, 7\n",
    "hrx, rbix, sbx, csx, bbx, = 8, 9, 10, 11, 12\n",
    "sox,ibbx, hbpx, shx,sfx = 13,14,15,16,17\n"
   ]
  },
  {
   "cell_type": "code",
   "execution_count": 4,
   "metadata": {
    "collapsed": false
   },
   "outputs": [],
   "source": [
    "class PlayerSeasonStats:\n",
    "    def __init__(self, pid):\n",
    "        self.pid = pid\n",
    "        self.attribution = [] #A list :[[yearid,interest],....]\n",
    "\n",
    "    def add_data(self, line, interested_attribution):\n",
    "        self.attribution.append([line[yrx], line[interested_attribution]])\n",
    "\n",
    "    def years_asc(self, include_first=True, include_last=True):\n",
    "        self.attribution.sort()\n",
    "        if (len(self.attribution) < 4):\n",
    "            print(\"Not enough stats: \" + self.pid)\n",
    "            while len(self.attribution) < 4:\n",
    "                self.attribution.append(None, None)\n",
    "        \n",
    "        i_start = 0 if include_first else 1\n",
    "        i_end = len(self.attribution) if include_last else len(self.attribution) - 1\n",
    "        sets_no = max(i_end - i_start - 3, 0)\n",
    "        return [self.attribution[i_start + i: i_start + i + 4] for i in range(sets_no)]"
   ]
  },
  {
   "cell_type": "code",
   "execution_count": 5,
   "metadata": {
    "collapsed": true
   },
   "outputs": [],
   "source": [
    "def readcsv(fname):\n",
    "    '''Returns a list of lines from the file'''\n",
    "    f = open(fname, 'r')\n",
    "    reader = csv.reader(f)\n",
    "    lines = list(reader)\n",
    "    f.close()\n",
    "    return lines"
   ]
  },
  {
   "cell_type": "code",
   "execution_count": 6,
   "metadata": {
    "collapsed": false
   },
   "outputs": [],
   "source": [
    "def writecsv(fname, season_stats,\n",
    "             include_first_season=True,\n",
    "             include_last_season=True):\n",
    "    header = [\"playerID\", \"yearID\", \"season1\",\n",
    "             \"season2\",\"season3\",\"season4\"]\n",
    "    outlines = [header]\n",
    "    for pid in season_stats:\n",
    "        year_seasons = season_stats[pid].years_asc(include_first=include_first_season,\n",
    "                                                   include_last=include_last_season)\n",
    "        for year_season in year_seasons:\n",
    "            line = [pid, # playerID\n",
    "                    year_season[0][0], # season 1 yearID\n",
    "                    year_season[0][1], # season 1 \n",
    "                    year_season[1][1], # season 2\n",
    "                    year_season[2][1], # season 3\n",
    "                    year_season[3][1]] # season 4\n",
    "            outlines.append(line)\n",
    "    f = open(fname, 'w', newline = '')\n",
    "    writer = csv.writer(f)\n",
    "    writer.writerows(outlines)\n",
    "    f.close()\n",
    "    print(\"output successfully, file name is \", fname)  #Number of lines written to file\"\"\""
   ]
  },
  {
   "cell_type": "code",
   "execution_count": 7,
   "metadata": {
    "collapsed": true
   },
   "outputs": [],
   "source": [
    "def build_name_dict(fname):\n",
    "    if(statistic.value ==\"G\"):\n",
    "        interested_attribution = gx\n",
    "    elif(statistic.value ==\"AB\"):\n",
    "        interested_attribution = abx\n",
    "    elif(statistic.value ==\"R\"):\n",
    "        interested_attribution = rx\n",
    "    elif(statistic.value ==\"H\"):\n",
    "        interested_attribution = hx\n",
    "    elif(statistic.value ==\"2B\"):\n",
    "        interested_attribution = dblx\n",
    "    elif(statistic.value ==\"3B\"):\n",
    "        interested_attribution = tplx\n",
    "    elif(statistic.value ==\"HR\"):\n",
    "        interested_attribution = hrx\n",
    "    elif(statistic.value ==\"RBI\"):\n",
    "        interested_attribution = rbix\n",
    "    elif(statistic.value ==\"SB\"):\n",
    "        interested_attribution = sbx\n",
    "    elif(statistic.value ==\"CS\"):\n",
    "        interested_attribution = csx\n",
    "    elif(statistic.value ==\"BB\"):\n",
    "        interested_attribution = bbx\n",
    "    elif(statistic.value ==\"SO\"):\n",
    "        interested_attribution = sox\n",
    "    elif(statistic.value ==\"IBB\"):\n",
    "        interested_attribution = ibbx\n",
    "    elif(statistic.value ==\"HBP\"):\n",
    "        interested_attribution = hbpx\n",
    "    elif(statistic.value ==\"SH\"):\n",
    "        interested_attribution = shx\n",
    "    elif(statistic.value ==\"SF\"):\n",
    "        interested_attribution = sfx\n",
    "    d = {}\n",
    "    lines = readcsv(fname)\n",
    "    for row in lines[1:]:\n",
    "        pid = row[pidx]\n",
    "        if pid not in d:\n",
    "            d[pid] = PlayerSeasonStats(pid)\n",
    "        d[pid].add_data(row, interested_attribution)\n",
    "        \n",
    "    return d"
   ]
  },
  {
   "cell_type": "code",
   "execution_count": 8,
   "metadata": {
    "collapsed": false
   },
   "outputs": [],
   "source": [
    "'''\n",
    "    Build GUI, Choose the attribution wanted \n",
    "'''\n",
    "\n",
    "statistic = widgets.RadioButtons(options = [\"G\", \"AB\", \"R\",\"H\",\"2B\", \"3B\",\"HR\",\"RBI\",\"SB\", \n",
    "                                           \"CS\",\"BB\", \"SO\",\"IBB\",\"HBP\",\"SH\",\"SF\"], value = \"G\",\n",
    "                     description = \"Attribute:\")\n",
    "display(statistic)\n",
    "\n",
    "include_first = widgets.Checkbox(value=True, description = \"Include Player's first season\")\n",
    "include_last = widgets.Checkbox(value=True, description = \"Include Player's last season\")\n",
    "display(include_first)\n",
    "display(include_last)\n",
    "\n",
    "filename_suffix_input = widgets.Text(description = \"File suffix:\")\n",
    "display(filename_suffix_input)\n",
    "\n",
    "\n",
    "button = widgets.Button(description = \"Create CSV\")\n",
    "display(button)\n",
    "filename_display = widgets.Label()\n",
    "display(filename_display)\n",
    "\n",
    "\n",
    "def get_filename():\n",
    "    suff = \"\"\n",
    "    if (filename_suffix_input.value):\n",
    "        suff = filename_suffix_input.value + \"_\"\n",
    "    return \"last_four_years_playerID_\" + suff + str(statistic.value) + \".csv\"\n",
    "\n",
    "def on_input_change(_=None):\n",
    "    filename_display.value = get_filename()\n",
    "\n",
    "def on_button_clicked(b):\n",
    "    lines = readcsv(fname)\n",
    "    names_dict = build_name_dict(fname)\n",
    "    fname_out = get_filename()\n",
    "    #name = list(names_dict.keys())\n",
    "    #name.sort()\n",
    "    writecsv(fname_out, names_dict,\n",
    "             include_first_season=include_first.value,\n",
    "             include_last_season=include_last.value)\n",
    "\n",
    "filename_suffix_input.observe(on_input_change, names='value')\n",
    "statistic.observe(on_input_change, names='value')\n",
    "button.on_click(on_button_clicked)\n",
    "# trigger filename display:\n",
    "on_input_change()"
   ]
  }
 ],
 "metadata": {
  "anaconda-cloud": {},
  "kernelspec": {
   "display_name": "Python [conda root]",
   "language": "python",
   "name": "conda-root-py"
  },
  "language_info": {
   "codemirror_mode": {
    "name": "ipython",
    "version": 3
   },
   "file_extension": ".py",
   "mimetype": "text/x-python",
   "name": "python",
   "nbconvert_exporter": "python",
   "pygments_lexer": "ipython3",
   "version": "3.5.2"
  },
  "widgets": {
   "state": {
    "2498cb5013dc4915ad4ccfbc352a9e05": {
     "views": [
      {
       "cell_index": 7
      }
     ]
    },
    "4ddf15bb5e894012a6787e8fabb2a038": {
     "views": [
      {
       "cell_index": 7
      }
     ]
    },
    "75f2fbd6b5e1461ab225334e7bd940e3": {
     "views": [
      {
       "cell_index": 7
      }
     ]
    },
    "a025d1d66a9744308b6e209ed4518787": {
     "views": [
      {
       "cell_index": 7
      }
     ]
    },
    "c914998806de4b8c83fd49b3f785426b": {
     "views": [
      {
       "cell_index": 7
      }
     ]
    },
    "ea8c4fb4c19f4752b04936c79a50facd": {
     "views": [
      {
       "cell_index": 7
      }
     ]
    }
   },
   "version": "1.2.0"
  }
 },
 "nbformat": 4,
 "nbformat_minor": 0
}
